{
  "nbformat": 4,
  "nbformat_minor": 0,
  "metadata": {
    "colab": {
      "provenance": [],
      "authorship_tag": "ABX9TyMLf/Z9UHc4QRUZgLmgTjcp",
      "include_colab_link": true
    },
    "kernelspec": {
      "name": "python3",
      "display_name": "Python 3"
    },
    "language_info": {
      "name": "python"
    }
  },
  "cells": [
    {
      "cell_type": "markdown",
      "metadata": {
        "id": "view-in-github",
        "colab_type": "text"
      },
      "source": [
        "<a href=\"https://colab.research.google.com/github/AndriiVasylenkoML/probability-theory-and-statistics/blob/main/linear_regression.ipynb\" target=\"_parent\"><img src=\"https://colab.research.google.com/assets/colab-badge.svg\" alt=\"Open In Colab\"/></a>"
      ]
    },
    {
      "cell_type": "markdown",
      "source": [
        "# Лінійна регресія. Знаходження параметрів вибіркового рівняння прямої лінії регресії. Лінійний коефіцієнт кореляції.\n",
        "\n",
        "\n",
        "Рівняння регресії подається у вигляді у = аx + b\n",
        "\n",
        "Знайти рівняння лінійної регресії y на х,  \n",
        "[![image.png](https://i.postimg.cc/KzZNNDS7/image.png)](https://postimg.cc/rdPxyWpz)\n",
        "\n",
        "Дані спосaережень для випадкових величин X і Y наведені в кореляційній таблиці:   \n",
        "[![image.png](https://i.postimg.cc/FzccjYC5/image.png)](https://postimg.cc/0Kkbvyqc)"
      ],
      "metadata": {
        "id": "JfZeUKoEDEzM"
      }
    },
    {
      "cell_type": "code",
      "execution_count": null,
      "metadata": {
        "id": "WUu-G52pPtJj"
      },
      "outputs": [],
      "source": [
        "import numpy as np\n",
        "\n",
        "# Дані спостережень (кореляційна таблиця)\n",
        "X_values = np.array([15, 20, 25, 30, 35, 40])\n",
        "Y_values = np.array([5, 10, 15, 20, 25])\n",
        "\n",
        "# Частоти nx (по X) і ny (по Y)\n",
        "nx = np.array([4, 8, 12, 57, 15, 4])\n",
        "ny = np.array([6, 10, 53, 16, 15])\n",
        "\n",
        "# Загальна кількість спостережень\n",
        "n_total = 100\n",
        "\n",
        "# Частоти для кожної пари (X, Y)\n",
        "frequencies = np.array([\n",
        "    [4, 2, 0, 0, 0, 0],  # Y = 5\n",
        "    [0, 6, 4, 0, 0, 0],  # Y = 10\n",
        "    [0, 0, 6, 45, 2, 0],  # Y = 15\n",
        "    [0, 0, 2, 8, 6, 0],  # Y = 20\n",
        "    [0, 0, 0, 4, 7, 4]   # Y = 25\n",
        "])"
      ]
    },
    {
      "cell_type": "code",
      "source": [
        "mean_x = np.sum(X_values * nx) / np.sum(nx)\n",
        "mean_y = np.sum(Y_values * ny) / np.sum(ny)\n",
        "\n",
        "print(f\"\"\"\n",
        "Знаходимо середні значення X і Y (зважені середні):\n",
        "\\nmean_x = np.sum({X_values} * {nx}) / np.sum({nx})\n",
        "\\nmean_x = np.sum({X_values * nx}) / {np.sum(nx)}\n",
        "\\nmean_x = {np.sum(X_values * nx)} / {np.sum(nx)}\n",
        "\\nmean_x = {mean_x}\n",
        "\\nmean_y = np.sum({Y_values} * {ny}) / np.sum({ny})\n",
        "\\nmean_y = np.sum({Y_values * ny}) / {np.sum(ny)}\n",
        "\\nmean_y = {np.sum(Y_values * ny)} / {np.sum(ny)}\n",
        "\\nmean_y = {mean_y}\n",
        "\"\"\")"
      ],
      "metadata": {
        "colab": {
          "base_uri": "https://localhost:8080/"
        },
        "id": "ASu7dSlzr0K4",
        "outputId": "9112c974-6acc-4858-b715-93c4da24977f"
      },
      "execution_count": null,
      "outputs": [
        {
          "output_type": "stream",
          "name": "stdout",
          "text": [
            "\n",
            "Знаходимо середні значення X і Y (зважені середні):\n",
            "\n",
            "mean_x = np.sum([15 20 25 30 35 40] * [ 4  8 12 57 15  4]) / np.sum([ 4  8 12 57 15  4])\n",
            "\n",
            "mean_x = np.sum([  60  160  300 1710  525  160]) / 100\n",
            "\n",
            "mean_x = 2915 / 100\n",
            "\n",
            "mean_x = 29.15\n",
            "\n",
            "mean_y = np.sum([ 5 10 15 20 25] * [ 6 10 53 16 15]) / np.sum([ 6 10 53 16 15])\n",
            "\n",
            "mean_y = np.sum([ 30 100 795 320 375]) / 100\n",
            "\n",
            "mean_y = 1620 / 100\n",
            "\n",
            "mean_y = 16.2\n",
            "\n"
          ]
        }
      ]
    },
    {
      "cell_type": "code",
      "source": [
        "Sxy = np.sum(frequencies * np.outer(Y_values - mean_y, X_values - mean_x))\n",
        "Sxx = np.sum(frequencies * (X_values - mean_x)**2)\n",
        "Syy = np.sum(frequencies.T * (Y_values - mean_y)**2)\n",
        "\n",
        "print(f\"\"\"\n",
        "Підготовка до знаходження параметрів регресії.\n",
        "\\nЗнаходимо суми для розрахунку коефіцієнтів:\n",
        "\\nSxy = np.sum(\\n{frequencies} * np.outer({Y_values} - {mean_y}, {X_values} - {mean_x}))\n",
        "\\nSxy = np.sum(\\n{frequencies} * {np.outer(Y_values - mean_y, X_values - mean_x)})\n",
        "\\nSxy = np.sum(\\n{frequencies * np.outer(Y_values - mean_y, X_values - mean_x)})\n",
        "\\nSxy = {Sxy}\n",
        "\\nSxx = np.sum(\\n{frequencies} * ({X_values} - {mean_x})**2)\n",
        "\\nSxx = np.sum(\\n{frequencies} * {(X_values - mean_x)**2})\n",
        "\\nSxx = np.sum(\\n{frequencies * (X_values - mean_x)**2})\n",
        "\\nSxx = {Sxx}\n",
        "\\nSyy = np.sum(\\n{frequencies.T} * ({Y_values} - {mean_y})**2)\n",
        "\\nSyy = np.sum(\\n{frequencies.T} * {(Y_values - mean_y)**2})\n",
        "\\nSyy = np.sum(\\n{frequencies.T * (Y_values - mean_y)**2}\n",
        "\"\"\")\n"
      ],
      "metadata": {
        "colab": {
          "base_uri": "https://localhost:8080/"
        },
        "id": "YTQVjQSL6ZDU",
        "outputId": "f17e2f81-ca2c-4ece-f5eb-b5b29b69b09c"
      },
      "execution_count": null,
      "outputs": [
        {
          "output_type": "stream",
          "name": "stdout",
          "text": [
            "\n",
            "Підготовка до знаходження параметрів регресії.\n",
            "\n",
            "Знаходимо суми для розрахунку коефіцієнтів:\n",
            "\n",
            "Sxy = np.sum(\n",
            "[[ 4  2  0  0  0  0]\n",
            " [ 0  6  4  0  0  0]\n",
            " [ 0  0  6 45  2  0]\n",
            " [ 0  0  2  8  6  0]\n",
            " [ 0  0  0  4  7  4]] * np.outer([ 5 10 15 20 25] - 16.2, [15 20 25 30 35 40] - 29.15))\n",
            "\n",
            "Sxy = np.sum(\n",
            "[[ 4  2  0  0  0  0]\n",
            " [ 0  6  4  0  0  0]\n",
            " [ 0  0  6 45  2  0]\n",
            " [ 0  0  2  8  6  0]\n",
            " [ 0  0  0  4  7  4]] * [[ 158.48  102.48   46.48   -9.52  -65.52 -121.52]\n",
            " [  87.73   56.73   25.73   -5.27  -36.27  -67.27]\n",
            " [  16.98   10.98    4.98   -1.02   -7.02  -13.02]\n",
            " [ -53.77  -34.77  -15.77    3.23   22.23   41.23]\n",
            " [-124.52  -80.52  -36.52    7.48   51.48   95.48]])\n",
            "\n",
            "Sxy = np.sum(\n",
            "[[633.92 204.96   0.    -0.    -0.    -0.  ]\n",
            " [  0.   340.38 102.92  -0.    -0.    -0.  ]\n",
            " [  0.     0.    29.88 -45.9  -14.04  -0.  ]\n",
            " [ -0.    -0.   -31.54  25.84 133.38   0.  ]\n",
            " [ -0.    -0.    -0.    29.92 360.36 381.92]])\n",
            "\n",
            "Sxy = 2152.0\n",
            "\n",
            "Sxx = np.sum(\n",
            "[[ 4  2  0  0  0  0]\n",
            " [ 0  6  4  0  0  0]\n",
            " [ 0  0  6 45  2  0]\n",
            " [ 0  0  2  8  6  0]\n",
            " [ 0  0  0  4  7  4]] * ([15 20 25 30 35 40] - 29.15)**2)\n",
            "\n",
            "Sxx = np.sum(\n",
            "[[ 4  2  0  0  0  0]\n",
            " [ 0  6  4  0  0  0]\n",
            " [ 0  0  6 45  2  0]\n",
            " [ 0  0  2  8  6  0]\n",
            " [ 0  0  0  4  7  4]] * [200.2225  83.7225  17.2225   0.7225  34.2225 117.7225])\n",
            "\n",
            "Sxx = np.sum(\n",
            "[[800.89   167.445    0.       0.       0.       0.    ]\n",
            " [  0.     502.335   68.89     0.       0.       0.    ]\n",
            " [  0.       0.     103.335   32.5125  68.445    0.    ]\n",
            " [  0.       0.      34.445    5.78   205.335    0.    ]\n",
            " [  0.       0.       0.       2.89   239.5575 470.89  ]])\n",
            "\n",
            "Sxx = 2702.75\n",
            "\n",
            "Syy = np.sum(\n",
            "[[ 4  0  0  0  0]\n",
            " [ 2  6  0  0  0]\n",
            " [ 0  4  6  2  0]\n",
            " [ 0  0 45  8  4]\n",
            " [ 0  0  2  6  7]\n",
            " [ 0  0  0  0  4]] * ([ 5 10 15 20 25] - 16.2)**2)\n",
            "\n",
            "Syy = np.sum(\n",
            "[[ 4  0  0  0  0]\n",
            " [ 2  6  0  0  0]\n",
            " [ 0  4  6  2  0]\n",
            " [ 0  0 45  8  4]\n",
            " [ 0  0  2  6  7]\n",
            " [ 0  0  0  0  4]] * [125.44  38.44   1.44  14.44  77.44])\n",
            "\n",
            "Syy = np.sum(\n",
            "[[501.76   0.     0.     0.     0.  ]\n",
            " [250.88 230.64   0.     0.     0.  ]\n",
            " [  0.   153.76   8.64  28.88   0.  ]\n",
            " [  0.     0.    64.8  115.52 309.76]\n",
            " [  0.     0.     2.88  86.64 542.08]\n",
            " [  0.     0.     0.     0.   309.76]]\n",
            "\n"
          ]
        }
      ]
    },
    {
      "cell_type": "code",
      "source": [
        "r_b = Sxy / np.sqrt(Sxx * Syy)\n",
        "\n",
        "print(f\"\"\"\n",
        "Лінійний коефіцієнт кореляції:\n",
        "r_b = {Sxy} / np.sqrt({Sxx} * {Syy})\n",
        "r_b = {Sxy / np.sqrt(Sxx * Syy)}\n",
        "\"\"\")"
      ],
      "metadata": {
        "colab": {
          "base_uri": "https://localhost:8080/"
        },
        "id": "QYAv3gSE6cVG",
        "outputId": "01456ce4-128d-4bbd-a38a-de693f8004aa"
      },
      "execution_count": null,
      "outputs": [
        {
          "output_type": "stream",
          "name": "stdout",
          "text": [
            "\n",
            "Лінійний коефіцієнт кореляції:\n",
            "r_b = 2152.0 / np.sqrt(2702.75 * 2606.0)\n",
            "r_b = 0.8108716622846192\n",
            "\n"
          ]
        }
      ]
    },
    {
      "cell_type": "code",
      "source": [
        "b = r_b * (np.sqrt(Syy) / np.sqrt(Sxx))\n",
        "a = mean_y - b * mean_x\n",
        "\n",
        "print(f\"\"\"\n",
        "Параметри рівняння регресії:\n",
        "\\nb = {r_b} * (np.sqrt({Syy}) / np.sqrt({Sxx}))\n",
        "\\na = {mean_y} - {b} * {mean_x}\n",
        "\\nВідповідь:\n",
        "\\na = {a}\n",
        "\\nb = {b}\n",
        "\"\"\")"
      ],
      "metadata": {
        "colab": {
          "base_uri": "https://localhost:8080/"
        },
        "id": "1QkH0La-6qS7",
        "outputId": "af0efd67-5c43-4f41-f3e3-3dd86ef2521d"
      },
      "execution_count": null,
      "outputs": [
        {
          "output_type": "stream",
          "name": "stdout",
          "text": [
            "\n",
            "Параметри рівняння регресії:\n",
            "\n",
            "b = 0.8108716622846192 * (np.sqrt(2606.0) / np.sqrt(2702.75))\n",
            "\n",
            "a = 16.2 - 0.7962260660438443 * 29.15\n",
            "\n",
            "Відповідь:\n",
            "\n",
            "a = -7.00998982517806\n",
            "\n",
            "b = 0.7962260660438443\n",
            "\n"
          ]
        }
      ]
    },
    {
      "cell_type": "code",
      "source": [],
      "metadata": {
        "id": "TWkgyDnb-7_J"
      },
      "execution_count": null,
      "outputs": []
    }
  ]
}