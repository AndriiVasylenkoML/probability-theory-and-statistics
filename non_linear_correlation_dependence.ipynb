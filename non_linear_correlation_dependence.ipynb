{
  "nbformat": 4,
  "nbformat_minor": 0,
  "metadata": {
    "colab": {
      "provenance": [],
      "authorship_tag": "ABX9TyMG35lDhPGsFcaoCVpjXSOi",
      "include_colab_link": true
    },
    "kernelspec": {
      "name": "python3",
      "display_name": "Python 3"
    },
    "language_info": {
      "name": "python"
    }
  },
  "cells": [
    {
      "cell_type": "markdown",
      "metadata": {
        "id": "view-in-github",
        "colab_type": "text"
      },
      "source": [
        "<a href=\"https://colab.research.google.com/github/AndriiVasylenkoML/probability-theory-and-statistics/blob/main/non_linear_correlation_dependence.ipynb\" target=\"_parent\"><img src=\"https://colab.research.google.com/assets/colab-badge.svg\" alt=\"Open In Colab\"/></a>"
      ]
    },
    {
      "cell_type": "code",
      "execution_count": 2,
      "metadata": {
        "id": "QPI6r7hZkYZG"
      },
      "outputs": [],
      "source": [
        "import numpy as np\n",
        "import statsmodels.api as sm"
      ]
    },
    {
      "cell_type": "code",
      "source": [
        "# Данні для задач\n",
        "data_sets = {\n",
        "    \"task_1\": {\"x\": np.array([0.25, 0.5, 1, 2]), \"y\": np.array([6, 4, 3, 3])},\n",
        "    \"task_2\": {\"x\": np.array([1, 2, 5, 10]), \"y\": np.array([10, 5, 2, 1])},\n",
        "    \"task_3\": {\"x\": np.array([8, 9, 10, 11, 12, 15, 18, 20, 22, 24]), \"y\": np.array([50, 45, 42, 36, 30, 15, 12, 8, 7, 5])},\n",
        "    \"task_4\": {\"x\": np.array([0, 2, 4, 6, 8, 10]), \"y\": np.array([5, -1, 0.5, 1.5, 1.5, 8.5])},\n",
        "    \"task_5\": {\"x\": np.array([-4, -3, -2, -1, 0, 1, 2, 3, 4]), \"y\": np.array([6, 3, 1, 0.3, -0.1, -0.2, 0, 0.2, 1])},\n",
        "    \"task_6\": {\"x\": np.array([-3, -2, -1, 0, 1, 2, 3]), \"y\": np.array([-0.7, 0, 0.5, 0.4, 0.9, 0.8, 0.5])},\n",
        "    \"task_7\": {\"x\": np.array([0, 1, 2, 3, 4, 5, 6, 7, 8]), \"y\": np.array([0.1, 0.48, 0.81, 1.26, 2.3, 2.85, 3.4, 3.96, 4.54])}\n",
        "}"
      ],
      "metadata": {
        "id": "71U9CiByk-Go"
      },
      "execution_count": 3,
      "outputs": []
    },
    {
      "cell_type": "code",
      "source": [
        "# Результати для кожної задачі\n",
        "results = {}\n",
        "\n",
        "# Завдання 1-3: Гіперболічна регресія (y = a/x + b)\n",
        "for task in [\"task_1\", \"task_2\", \"task_3\"]:\n",
        "    x = data_sets[task][\"x\"]\n",
        "    y = data_sets[task][\"y\"]\n",
        "    # Перетворення: z = 1/x\n",
        "    z = 1 / x\n",
        "    # Лінійна модель y = a * z + b\n",
        "    z = sm.add_constant(z)  # додати константу для коефіцієнта b\n",
        "    model = sm.OLS(y, z)\n",
        "    results[task] = model.fit().params\n",
        "\n",
        "# Завдання 4-7: Параболічна регресія (y = ax^2 + bx + c)\n",
        "for task in [\"task_4\", \"task_5\", \"task_6\", \"task_7\"]:\n",
        "    x = data_sets[task][\"x\"]\n",
        "    y = data_sets[task][\"y\"]\n",
        "    # Перетворення: y = ax^2 + bx + c\n",
        "    X = np.column_stack((x**2, x, np.ones(len(x))))\n",
        "    model = sm.OLS(y, X)\n",
        "    results[task] = model.fit().params\n",
        "\n",
        "results"
      ],
      "metadata": {
        "colab": {
          "base_uri": "https://localhost:8080/"
        },
        "id": "7jvLD0AllAZi",
        "outputId": "68b85d04-4579-49b0-a751-eeb17f6cf3ea"
      },
      "execution_count": 4,
      "outputs": [
        {
          "output_type": "execute_result",
          "data": {
            "text/plain": [
              "{'task_1': array([2.30434783, 0.90434783]),\n",
              " 'task_2': array([ 0., 10.]),\n",
              " 'task_3': array([-20.30886539, 588.65848734]),\n",
              " 'task_4': array([ 0.26339286, -2.2625    ,  4.32142857]),\n",
              " 'task_5': array([ 0.2280303 , -0.515     , -0.27575758]),\n",
              " 'task_6': array([-0.08095238,  0.2       ,  0.66666667]),\n",
              " 'task_7': array([ 0.01239177,  0.48369913, -0.02678788])}"
            ]
          },
          "metadata": {},
          "execution_count": 4
        }
      ]
    }
  ]
}